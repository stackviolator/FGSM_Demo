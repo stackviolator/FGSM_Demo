{
 "cells": [
  {
   "cell_type": "code",
   "execution_count": 11,
   "metadata": {},
   "outputs": [
    {
     "name": "stdout",
     "output_type": "stream",
     "text": [
      "Using CUDA device cpu\n"
     ]
    }
   ],
   "source": [
    "import argparse\n",
    "import torch\n",
    "import torchvision\n",
    "from torchvision.transforms import transforms\n",
    "import matplotlib.pyplot as plt\n",
    "import numpy as np\n",
    "import Net\n",
    "import Unnormalize\n",
    "from PIL import Image\n",
    "\n",
    "accuracies = []\n",
    "examples = []\n",
    "epsilons = [0, .05, .1, .15, 1]\n",
    "batch_size = 4\n",
    "\n",
    "classes = {\n",
    "        0 : 'plane',\n",
    "        1 : 'car',\n",
    "        2 :'bird',\n",
    "        3 : 'cat',\n",
    "        4 : 'deer',\n",
    "        5 : 'dog',\n",
    "        6 : 'frog',\n",
    "        7 : 'horse',\n",
    "        8 : 'ship',\n",
    "        9 : 'truck'\n",
    "    }\n",
    "\n",
    "transform = transforms.Compose(\n",
    "    [transforms.ToTensor(),\n",
    "    transforms.Normalize((0.5, 0.5, 0.5), (0.5, 0.5, 0.5)) # normalize the pics (bad for displaying w matplot)\n",
    "    ]\n",
    ")\n",
    "\n",
    "device = torch.device('cuda:0' if torch.cuda.is_available() else 'cpu')\n",
    "if device != \"cpu\":\n",
    "    print(f\"Using CUDA device {device}\")"
   ]
  },
  {
   "cell_type": "code",
   "execution_count": 3,
   "metadata": {},
   "outputs": [
    {
     "name": "stdout",
     "output_type": "stream",
     "text": [
      "Files already downloaded and verified\n",
      "Files already downloaded and verified\n"
     ]
    }
   ],
   "source": [
    "\n",
    "trainset = torchvision.datasets.CIFAR10(\n",
    "    root='../data',\n",
    "    train=True,\n",
    "    download=True,\n",
    "    transform=transform\n",
    "    )\n",
    "\n",
    "trainloader = torch.utils.data.DataLoader(\n",
    "    trainset,\n",
    "    batch_size=batch_size,\n",
    "    shuffle=True,\n",
    "    num_workers=2\n",
    ")\n",
    "\n",
    "testset = torchvision.datasets.CIFAR10(\n",
    "    root='../data',\n",
    "    train=False,\n",
    "    download=True,\n",
    "    transform=transform\n",
    ")\n",
    "\n",
    "testloader = torch.utils.data.DataLoader(\n",
    "    testset,\n",
    "    batch_size=batch_size,\n",
    "    shuffle=False,\n",
    "    num_workers=2\n",
    ")"
   ]
  },
  {
   "cell_type": "code",
   "execution_count": 6,
   "metadata": {},
   "outputs": [],
   "source": [
    "def imshow(img):\n",
    "    img = img / 2 + 0.5\n",
    "    npimg = img.numpy()\n",
    "    plt.imshow(np.transpose(npimg, (1, 2, 0)))\n",
    "    plt.show()"
   ]
  },
  {
   "cell_type": "code",
   "execution_count": 7,
   "metadata": {},
   "outputs": [
    {
     "data": {
      "text/plain": [
       "Net(\n",
       "  (conv1): Conv2d(3, 32, kernel_size=(5, 5), stride=(1, 1))\n",
       "  (pool): MaxPool2d(kernel_size=2, stride=2, padding=0, dilation=1, ceil_mode=False)\n",
       "  (conv2): Conv2d(32, 16, kernel_size=(5, 5), stride=(1, 1))\n",
       "  (fc1): Linear(in_features=400, out_features=120, bias=True)\n",
       "  (fc2): Linear(in_features=120, out_features=84, bias=True)\n",
       "  (fc3): Linear(in_features=84, out_features=10, bias=True)\n",
       ")"
      ]
     },
     "execution_count": 7,
     "metadata": {},
     "output_type": "execute_result"
    }
   ],
   "source": [
    "# Instantiate the network\n",
    "net = Net.Net(True, device)\n",
    "net.to(device)"
   ]
  },
  {
   "cell_type": "code",
   "execution_count": null,
   "metadata": {},
   "outputs": [],
   "source": [
    "# Train the network\n",
    "net.train(4, trainloader)\n",
    "net.save(\"../net/net_notebook\")"
   ]
  },
  {
   "cell_type": "code",
   "execution_count": 8,
   "metadata": {},
   "outputs": [
    {
     "data": {
      "text/plain": [
       "<All keys matched successfully>"
      ]
     },
     "execution_count": 8,
     "metadata": {},
     "output_type": "execute_result"
    }
   ],
   "source": [
    "# Load a separate network instead of training a new one\n",
    "net.load_state_dict(torch.load(\"../nets/net.pth\", map_location=device))"
   ]
  },
  {
   "cell_type": "code",
   "execution_count": 9,
   "metadata": {},
   "outputs": [
    {
     "name": "stdout",
     "output_type": "stream",
     "text": [
      "Accuracy of the network on the 10k test images: 54%\n"
     ]
    }
   ],
   "source": [
    "# Test the network's accuracy\n",
    "net.test(testloader)"
   ]
  },
  {
   "cell_type": "code",
   "execution_count": 12,
   "metadata": {},
   "outputs": [
    {
     "name": "stdout",
     "output_type": "stream",
     "text": [
      "Prediction: truck\n"
     ]
    }
   ],
   "source": [
    "# Load image from path and resize to 32x32\n",
    "img = Image.open(\"../img/truck.jpg\").convert('RGB')\n",
    "img = img.resize((32, 32))\n",
    "\n",
    "# Define transform to tensor and noramlize\n",
    "transform = transforms.Compose([\n",
    "    transforms.ToTensor(),\n",
    "    transforms.Normalize((0.5, 0.5, 0.5), (0.5, 0.5, 0.5)),\n",
    "])\n",
    "\n",
    "# Convert image to tensor\n",
    "img = transform(img)\n",
    "prediction = net.test_image(img)\n",
    "print( f\"Prediction: {classes[prediction]}\" )"
   ]
  },
  {
   "cell_type": "code",
   "execution_count": 13,
   "metadata": {},
   "outputs": [
    {
     "name": "stdout",
     "output_type": "stream",
     "text": [
      "Accuracy of the network with Epsilon 0 on the perturbed images: 54%\n",
      "Accuracy of the network with Epsilon 0.05 on the perturbed images: 10%\n",
      "Accuracy of the network with Epsilon 0.1 on the perturbed images: 3%\n",
      "Accuracy of the network with Epsilon 0.15 on the perturbed images: 1%\n",
      "Accuracy of the network with Epsilon 1 on the perturbed images: 3%\n"
     ]
    }
   ],
   "source": [
    "# Generate adversarial examples\n",
    "for eps in epsilons:\n",
    "    acc, ex = net.test_perturbed(testloader, eps)\n",
    "    accuracies.append(acc)\n",
    "    # Each index in examples is a tuple of (initial_prediction, final_prediction, image)\n",
    "    examples.append(ex)"
   ]
  },
  {
   "cell_type": "code",
   "execution_count": 31,
   "metadata": {},
   "outputs": [
    {
     "name": "stdout",
     "output_type": "stream",
     "text": [
      "5\n",
      "[0.54, 0.1, 0.03, 0.01, 0.03]\n",
      "5\n",
      "[0, 0.05, 0.1, 0.15, 1]\n"
     ]
    },
    {
     "data": {
      "image/png": "[encoded data removed]",
      "text/plain": [
       "<Figure size 500x500 with 1 Axes>"
      ]
     },
     "metadata": {},
     "output_type": "display_data"
    }
   ],
   "source": [
    "# Show the epilson vs accuracy graph\n",
    "for i in range(len(accuracies)):\n",
    "    accuracies[i] = accuracies[i] / 100\n",
    "    \n",
    "plt.figure(figsize=(5,5))\n",
    "# Last epsilon is 1, we don't want to plot it\n",
    "plt.plot(epsilons[:-1], accuracies[:-1], \"*-\")\n",
    "# Last epsilon is 1, we don't want to plot it, so we use epsilons[-2] + epsilons[1]\n",
    "plt.xticks(np.arange(epsilons[0], epsilons[-2] + epsilons[1], step=float(epsilons[1])))\n",
    "plt.yticks(np.arange(0, 1.1, step=0.1))\n",
    "plt.title(\"Accuracy vs Epsilon\")\n",
    "plt.xlabel(\"Epsilon\")\n",
    "plt.ylabel(\"Accuracy\")\n",
    "plt.show()\n"
   ]
  },
  {
   "cell_type": "code",
   "execution_count": null,
   "metadata": {},
   "outputs": [],
   "source": [
    "# Need to unnormalize the images (normalized images = bad for displaying w matplot)\n",
    "un = Unnormalize.Unnormalize((0.5, 0.5, 0.5), (0.5, 0.5, 0.5))\n",
    "\n",
    "# Plot all images in examples\n",
    "# TODO : plot 4 examples per epsilon\n",
    "x = 0\n",
    "plt.figure(figsize=(8,10))\n",
    "for i in range(len(examples)):\n",
    "    for j in range(len(examples[i])):\n",
    "        x += 1\n",
    "        plt.subplot(len(epsilons),len(examples[0]), x)\n",
    "        init_pred, final_pred, img_list = examples[i][j]\n",
    "        for img in img_list:\n",
    "            img = un(torch.from_numpy(img))\n",
    "            # Convert to numpy and transpose to (32, 32, 3)\n",
    "            img = img.permute(*torch.arange(img.dim() - 1, -1, -1))\n",
    "            plt.imshow(img)\n",
    "            plt.title(f\"Image with epsilon {epsilons[i]}\")\n",
    "plt.tight_layout()\n",
    "plt.show()"
   ]
  }
 ],
 "metadata": {
  "kernelspec": {
   "display_name": "Python 3",
   "language": "python",
   "name": "python3"
  },
  "language_info": {
   "codemirror_mode": {
    "name": "ipython",
    "version": 3
   },
   "file_extension": ".py",
   "mimetype": "text/x-python",
   "name": "python",
   "nbconvert_exporter": "python",
   "pygments_lexer": "ipython3",
   "version": "3.10.10"
  },
  "orig_nbformat": 4
 },
 "nbformat": 4,
 "nbformat_minor": 2
}
